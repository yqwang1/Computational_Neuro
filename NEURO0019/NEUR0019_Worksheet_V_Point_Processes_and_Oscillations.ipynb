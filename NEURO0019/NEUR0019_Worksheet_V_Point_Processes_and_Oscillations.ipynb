{
  "nbformat": 4,
  "nbformat_minor": 0,
  "metadata": {
    "colab": {
      "provenance": [],
      "include_colab_link": true
    },
    "kernelspec": {
      "name": "python3",
      "display_name": "Python 3"
    },
    "language_info": {
      "name": "python"
    }
  },
  "cells": [
    {
      "cell_type": "markdown",
      "metadata": {
        "id": "view-in-github",
        "colab_type": "text"
      },
      "source": [
        "<a href=\"https://colab.research.google.com/github/yqwang1/Computational_Neuro/blob/main/NEUR0019_Worksheet_V_Point_Processes_and_Oscillations.ipynb\" target=\"_parent\"><img src=\"https://colab.research.google.com/assets/colab-badge.svg\" alt=\"Open In Colab\"/></a>"
      ]
    },
    {
      "cell_type": "markdown",
      "source": [
        "The function below generates a Poisson spike train for a simulated neuron with a fixed (homogeneous) rate function."
      ],
      "metadata": {
        "id": "D2Gq3lCjNBae"
      }
    },
    {
      "cell_type": "code",
      "execution_count": null,
      "metadata": {
        "id": "pmW8CVkMM-NF"
      },
      "outputs": [],
      "source": [
        "# Import the toolboxes we will need\n",
        "import numpy as np\n",
        "import matplotlib.pyplot as plt\n",
        "import pandas as pd\n",
        "import scipy.signal as sig\n",
        "\n",
        "# Function to generate homogeneous Poisson spike train of a single simulated neuron\n",
        "def poiss_spikes(rate=5,duration=10,bin=0.004):\n",
        "  '''Inputs:\n",
        "  rate = homogeneous firing rate (Hz)\n",
        "  duration = duration of the simulated spike train (s)\n",
        "  bin = time bin (s) - should be small '''\n",
        "\n",
        "  nbins = np.round(duration/bin+1).astype('int')            # Compute the total number of time bins\n",
        "  time = np.linspace(start=0,stop=duration,num=nbins)       # Generate a time axis\n",
        "  spike_train = np.random.poisson(lam=rate*bin,size=nbins)  # Simulate a Poisson spike train\n",
        "  return spike_train,time                                   # Return those variables"
      ]
    },
    {
      "cell_type": "markdown",
      "source": [
        "We can now generate a long (two minute) spike train with a given firing rate, and convert the spike count vector to an array of spike times in seconds for subsequent analysis, assuming that the time bins are small enough to ensure that the probability of observing more than one spike in a time bin is very low."
      ],
      "metadata": {
        "id": "e6emJOOFlzNs"
      }
    },
    {
      "cell_type": "code",
      "source": [
        "# Generate long spike train\n",
        "spks,t = poiss_spikes(rate=5,duration=120,bin=0.004)        # Generate Poisson spike train\n",
        "mean_r = sum(spks)/max(t)                                   # Compute mean firing rate\n",
        "print('Mean rate = ' + str(mean_r) + 'Hz')                  # Print to screen\n",
        "\n",
        "# Convert vector of spike counts to array of spike times\n",
        "spike_times = t[spks>0]                                     # Find all time bins in which >0 spikes were fired"
      ],
      "metadata": {
        "id": "03nj2Pcxl8EF"
      },
      "execution_count": null,
      "outputs": []
    },
    {
      "cell_type": "markdown",
      "source": [
        "We can now examine the histogram of inter-spike intervals and temporal auto-correlation for this simulated spike train, and compare that with what we saw from real data in the lectures, and to what we'd expect from a Poisson process"
      ],
      "metadata": {
        "id": "cRpeOFP6l91u"
      }
    },
    {
      "cell_type": "code",
      "source": [
        "# Function to plot the ISI histogram\n",
        "def plot_isis(spike_times,bin_size=0.01,range=1):\n",
        "  '''Inputs:\n",
        "  spike_times = array of spike times (s)\n",
        "  bin_size = time bin for the histogram (s)\n",
        "  range = window size for the histogram (s)'''\n",
        "\n",
        "  spike_times = np.sort(spike_times)                                    # Sort spike times into ascending order\n",
        "  isis = np.diff(spike_times)                                           # Compute ISIs\n",
        "  plt.figure()                                                          # Generate a new figure\n",
        "  plt.hist(isis,np.arange(0,range+bin_size,bin_size),density=True)      # Plot a histogram of the inter-spike intervals\n",
        "  plt.xlabel('Interspike interval (s)',fontsize=18)                     # Label the x-axis\n",
        "  plt.ylabel('Probability density',fontsize=18)                         # Label the y-axis\n",
        "  plt.show()                                                            # Display the figure\n",
        "\n",
        "# Function to plot the temporal auto-correlation\n",
        "def plot_tac(spike_train,bin_size=0.01,range=1):\n",
        "  '''Inputs:\n",
        "  spike_train = vector of spike counts\n",
        "  bin_size = time bin for the spike count vector (s)\n",
        "  range = window size for the temporal auto-correlation (s)'''\n",
        "\n",
        "  autocorr = np.correlate(spike_train,spike_train,mode='full')          # Generate the temporal auto-correlation\n",
        "  strt_ind = np.size(autocorr)/2 - (range/bin_size)                     # Find the start index of the window of interest\n",
        "  end_ind  = np.size(autocorr)/2 + (range/bin_size)                     # Find the end index of the window of interest\n",
        "  autocorr = autocorr[int(strt_ind):int(end_ind+1)]                     # Discard any values beyond the window of time lags we are interested in\n",
        "\n",
        "  plt.figure()                                                          # Generate a new figure\n",
        "  plt.plot(np.arange(-range,range+bin_size,bin_size),autocorr)          # Plot the temporal auto-correlation\n",
        "  plt.xlabel('Time (s)',fontsize=24)                                    # Label the x-axis\n",
        "  plt.ylabel('Firing rate (Hz)',fontsize=24)                            # Label the y-axis\n",
        "  plt.show()                                                            # Display the figure\n",
        "\n",
        "f = plot_isis(spike_times)\n",
        "print(f)\n",
        "plot_tac(spks)"
      ],
      "metadata": {
        "id": "Hufj1zBKmGr8"
      },
      "execution_count": null,
      "outputs": []
    },
    {
      "cell_type": "markdown",
      "source": [
        "**[1]** How do the interspike interval distributions and temporal auto-correlations of real spike trains in the lecture differ from these? What key feature of real biological neurons does the reflect?\n",
        "\n",
        "**[2]** Edit the ISI histogram  function above so that it also computes and returns the Fano factor of the input spike train. What value would we expect this to take for our simulated spike train?\n",
        "\n"
      ],
      "metadata": {
        "id": "LYH3Sc-Anp2w"
      }
    },
    {
      "cell_type": "markdown",
      "source": [
        "Now let's look at an example of an inhomogeneous Poisson process - the firing of a simulated place cell. First, we will load some tracking data from a real experiment, and plot that, to visualise the path of the animal over a twenty minute recording session. To do so, upload the 'PosData.csv' and 'EEGData.csv' files to your Google drive by clicking on the folder icon on the left-hand side of the screen in Colab."
      ],
      "metadata": {
        "id": "QV1Co7NRsas_"
      }
    },
    {
      "cell_type": "code",
      "source": [
        "# Load tracking data\n",
        "pos_data = pd.read_csv('PosData.csv')    # Use the Pandas 'read_csv' function to import tracking data\n",
        "print(pos_data.head())                   # Print the first five rows of the dataframe\n",
        "\n",
        "# Plot tracking data\n",
        "plt.figure()\n",
        "plt.plot(pos_data['X'],pos_data['Y'])\n",
        "plt.xlabel('X position')\n",
        "plt.ylabel('Y position')\n",
        "plt.show()"
      ],
      "metadata": {
        "id": "PrKbnXNssrJZ"
      },
      "execution_count": null,
      "outputs": []
    },
    {
      "cell_type": "markdown",
      "source": [
        "Now, before we use this position data (which was recorded at a sample rate of 50Hz, as you can see from the first few lines of data above) to simulate the firing rate of a place cell, we will interpolate to a higher sample rate, to ensure that no more than one spike is fired per time bin"
      ],
      "metadata": {
        "id": "q80V7fZltzMt"
      }
    },
    {
      "cell_type": "code",
      "source": [
        "# Function to resample position data\n",
        "def resample_pos(pos_data,new_fs):\n",
        "  '''Inputs:\n",
        "  pos_data = position data in Pandas format\n",
        "  new_fs = new sample rate (Hz)\n",
        "  '''\n",
        "  x,y,t = pos_data['X'],pos_data['Y'],pos_data['Time']      # Extract x, y and time axis\n",
        "  old_fs = 1/np.median(np.diff(t))                          # Compute original sample rate (Hz)\n",
        "  if old_fs != new_fs:                                      # If this is not the same as the new sample rate\n",
        "    nbins = np.round(max(t)*new_fs).astype('int')           # Compute the total number of new time bins\n",
        "    new_time = np.linspace(1/new_fs,stop=max(t),num=nbins)  # Generate a new time axis\n",
        "    x = np.interp(new_time,t,x)                             # Up-sample the x position data to match the EEG sample rate\n",
        "    y = np.interp(new_time,t,y)                             # Up-sample the y position data to match the EEG sample rate\n",
        "    t = new_time                                            # Replace original time axis with new time axis\n",
        "  return x,y,t\n",
        "\n",
        "# Resample the tracking data to a higher sample rate\n",
        "x,y,t = resample_pos(pos_data,250)\n",
        "\n",
        "# Plot tracking data\n",
        "plt.figure()\n",
        "plt.plot(x,y)\n",
        "plt.xlabel('X position')\n",
        "plt.ylabel('Y position')\n",
        "plt.show()"
      ],
      "metadata": {
        "id": "ch7OSxJ4tzlG"
      },
      "execution_count": null,
      "outputs": []
    },
    {
      "cell_type": "markdown",
      "source": [
        "Next, we can simulate the activity of a place cell with a 2D Gaussian firing field centred on a particular x and y coordinate. Let's write a function to do so:"
      ],
      "metadata": {
        "id": "pqskyuvSsrkT"
      }
    },
    {
      "cell_type": "code",
      "source": [
        "# Generate a Gaussian firing field\n",
        "def place_field(x,y,t,centre=[60,60],width=5,peak=10):\n",
        "  '''Inputs:\n",
        "  x,y,t = x, y position and time axis of tracking data\n",
        "  centre = centre of the firing field (cm)\n",
        "  width = width (SD) of the firing field (cm)\n",
        "  peak = peak firing rate (Hz)\n",
        "  '''\n",
        "  dt = np.median(np.diff(t))                                # Time bin (s)\n",
        "  d = np.sqrt((x-centre[0])**2 + (y-centre[1])**2)          # Distance from place field centre in each time bin\n",
        "  pf_rate = peak * np.exp(-(d**2) / (2*width)**2)           # Gaussian firing rate\n",
        "  pf_spikes = np.random.poisson(lam = pf_rate*dt)           # Convert to Poisson spike train\n",
        "  return pf_rate,pf_spikes\n",
        "\n",
        "# Inspect the place field Poisson rate function\n",
        "pf_rate,pf_spikes = place_field(x,y,t)\n",
        "plt.figure()\n",
        "plt.scatter(x,y,c=pf_rate,cmap='jet')\n",
        "plt.xlabel('X position')\n",
        "plt.ylabel('Y position')\n",
        "plt.colorbar(label='Firing Rate (Hz)')\n",
        "plt.show()"
      ],
      "metadata": {
        "id": "bLDj_nc8s1BS"
      },
      "execution_count": null,
      "outputs": []
    },
    {
      "cell_type": "markdown",
      "source": [
        "**[3]** Plot the ISI histogram and temporal auto-correlation for this cell - how do they differ from above? What does that reflect in the simulated data?\n",
        "\n",
        "\n",
        "**[4]** Write some code to extract the x and y coordinates of the simulated agent when the simulated place cell fired a spike. Overlay these as red dots on the path plot, to generate a figure that looks like that shown in the lecture slides"
      ],
      "metadata": {
        "id": "7fG8ZIJws65p"
      }
    },
    {
      "cell_type": "markdown",
      "source": [
        "Finally, we can incorporate a theta phase preference into the simulated place cell spike train. To do so, we first need to load some LFP data, then filter in the theta band and use the Hilbert transform to extract the phase in each time bin"
      ],
      "metadata": {
        "id": "IBy4QyPrv-4J"
      }
    },
    {
      "cell_type": "code",
      "source": [
        "# Load EEG data\n",
        "eeg_data = pd.read_csv('EEGData.csv')                     # Use the Pandas 'read_csv' function to import the EEG data\n",
        "print(eeg_data.head())\n",
        "\n",
        "# Function to extract phase of the band-pass filtered signal\n",
        "def get_phase(eeg,fs,fBand=[6,12]):\n",
        "  '''Inputs:\n",
        "  eeg = lfp signal\n",
        "  fs = sample rate (Hz)\n",
        "  fBand = frequency band of interest (Hz)\n",
        "  '''\n",
        "  b,a = sig.butter(5,fBand,btype='bandpass',fs=fs)        # Generate a Butterworth filter\n",
        "  filtered = sig.filtfilt(b,a,eeg)                        # Filter the signal (zero-phase)\n",
        "  analytic = sig.hilbert(filtered)                        # Extract the analytic signal (Hilbert transform)\n",
        "  phase = np.angle(analytic)                              # Extract the phase\n",
        "  return filtered,phase\n",
        "\n",
        "# Extract theta phase of the EEG data\n",
        "fs = 1 / np.median(np.diff(eeg_data['Time']))             # Extract the sample rate (Hz)\n",
        "eeg_filt,eeg_phs = get_phase(eeg_data['EEG'],fs)          # Extract phase and filtered signal\n",
        "\n",
        "# Plot to visually confirm that the filtering has worked as expected\n",
        "plt.figure()\n",
        "plt.subplot(2,1,1)\n",
        "plt.plot(eeg_data['Time'],eeg_data['EEG'],label='Raw')\n",
        "plt.plot(eeg_data['Time'],eeg_filt,color='r',label='Filtered')\n",
        "plt.ylabel('Amplitude (uV)')\n",
        "plt.xlim((10,12))\n",
        "plt.legend()\n",
        "plt.subplot(2,1,2)\n",
        "plt.plot(eeg_data['Time'],eeg_phs)\n",
        "plt.xlabel('Time (s)')\n",
        "plt.ylabel('Phase (rad)')\n",
        "plt.xlim((10,12))\n",
        "plt.show()"
      ],
      "metadata": {
        "id": "FGMZWYpvW-P8"
      },
      "execution_count": null,
      "outputs": []
    },
    {
      "cell_type": "markdown",
      "source": [
        "We can now specify a new function to simulate the activity of a place cell with a 2D Gaussian firing field and preferred firing phase, using a von Mises distribution"
      ],
      "metadata": {
        "id": "EOdKPvhx9nad"
      }
    },
    {
      "cell_type": "code",
      "source": [
        "# Generate a Gaussian firing field\n",
        "def place_field(x,y,t,eeg_phs,centre=[60,60],width=5,peak=10,kappa=1,phase=0):\n",
        "  '''Inputs:\n",
        "  centre = centre of the firing field (cm)\n",
        "  width = width (SD) of the firing field (cm)\n",
        "  peak = peak firing rate (Hz)\n",
        "  kappa = depth of phase modulation (von Mises kappa)\n",
        "  phase = preferred firing phase (von Mises phi)\n",
        "  '''\n",
        "  dt = np.median(np.diff(t))                                                # Time bin (s)\n",
        "  d = np.sqrt((x-centre[0])**2 + (y-centre[1])**2)                          # Distance from place field centre in each time bin\n",
        "  pf_rate = peak * np.exp(-(d**2) / (2*width)**2)                           # Gaussian firing rate\n",
        "  pf_phase \t= np.exp(kappa*np.cos(phase-eeg_phs))                           # von Mises phase preference\n",
        "  pf_spikes = np.random.poisson(lam = pf_rate*pf_phase*dt)                  # Convert to Poisson spike train\n",
        "  return pf_rate,pf_spikes\n",
        "\n",
        "# Inspect the place field Poisson rate function\n",
        "pf_rate,pf_spikes = place_field(x,y,t,eeg_phs)\n",
        "plt.figure()\n",
        "plt.scatter(x,y,c=pf_rate,cmap='jet')\n",
        "plt.xlabel('X position')\n",
        "plt.ylabel('Y position')\n",
        "plt.colorbar(label='Firing Rate (Hz)')\n",
        "plt.show()"
      ],
      "metadata": {
        "id": "0G3da9LFDuJg"
      },
      "execution_count": null,
      "outputs": []
    },
    {
      "cell_type": "markdown",
      "source": [
        "**[5]** Compute the circular mean (i.e preferred firing phase) and resultant vector length (i.e. measure of phase locking) for the simulated spike train\n",
        "\n",
        "**[6]** Use a shuffling procedure to establish whether the cell is significantly phase locked."
      ],
      "metadata": {
        "id": "PrfjDfOj-0zD"
      }
    },
    {
      "cell_type": "markdown",
      "source": [
        "Finally - if you wish - try adjusting the parameters used to simulate this  spike train and see how that affects the output.\n",
        "\n",
        "If you fancy a harder challenge, then you could also try to adapt the code above so that the cell exhibits phase precession. To do so, you may wish to make use of the following function, which computes the relative distance travelled across the place field in the current direction of motion."
      ],
      "metadata": {
        "id": "K-WCOz8v-2BE"
      }
    }
  ]
}
