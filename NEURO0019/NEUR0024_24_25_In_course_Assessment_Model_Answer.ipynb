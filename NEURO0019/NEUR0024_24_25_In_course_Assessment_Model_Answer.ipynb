{
  "nbformat": 4,
  "nbformat_minor": 0,
  "metadata": {
    "colab": {
      "provenance": [],
      "include_colab_link": true
    },
    "kernelspec": {
      "name": "python3",
      "display_name": "Python 3"
    },
    "language_info": {
      "name": "python"
    }
  },
  "cells": [
    {
      "cell_type": "markdown",
      "metadata": {
        "id": "view-in-github",
        "colab_type": "text"
      },
      "source": [
        "<a href=\"https://colab.research.google.com/github/yqwang1/Computational_Neuro/blob/main/NEUR0024_24_25_In_course_Assessment_Model_Answer.ipynb\" target=\"_parent\"><img src=\"https://colab.research.google.com/assets/colab-badge.svg\" alt=\"Open In Colab\"/></a>"
      ]
    },
    {
      "cell_type": "markdown",
      "source": [
        "**[1]** Write a function in Python that first asks the user to input four integer values (_i_, _j_, _k_ and _l_) using the prompts: “What is the lower bound?”; “What is the upper bound?”; “What is the divisor?”; and “What are the products to exclude?” If _j_ is smaller than _i_, have the function ask the user to choose another value. Otherwise, have the function return a single list variable that contains all integer values between _i_ and _j_ that are divisible by _k_ but are not a product of _l_. So for example, if _i_, _j_, _k_ and _l_ are 1, 50, 7 and 5, respectively, then the output should be: [7, 14, 21, 28, 42, 49]"
      ],
      "metadata": {
        "id": "gtxoeFOHReVD"
      }
    },
    {
      "cell_type": "code",
      "execution_count": null,
      "metadata": {
        "id": "IZFmWmKARdXn"
      },
      "outputs": [],
      "source": [
        "def Q1():\n",
        "  '''Function to compute a list of integer values between i and j that are\n",
        "  divisible by k but not a product of l. Written as a model answer for the\n",
        "  NEUR0024 module in-course assessment at UCL, 2024/25\n",
        "  Daniel Bush, UCL (2024) d.bush@ucl.ac.uk\n",
        "  '''\n",
        "\n",
        "  # First, ask the user to input the value for i, j, k and l, and check they conform to certain constraints\n",
        "  i = int(input('What is the lower bound? '))             # Ask the user to input a value of i and convert to an integer\n",
        "  j = int(input('What is the upper bound? '))             # Ask the user to input a value of j and convert to an integer\n",
        "  while j<i:                                              # For as long as the value of j is smaller than the value of i, ask them to enter a different value\n",
        "    j = int(input('Upper bound must be larger than lower bound. What is the upper bound? '))\n",
        "  k = int(input('What is the divisor? '))                 # Ask the user to input a value of k and convert to an integer\n",
        "  while k==0:                                             # For as long as the value of k is equal to zero, ask them to enter a different value\n",
        "    k = int(input('Divisor cannot be zero. What is the divisor? '))\n",
        "  l = int(input('What are the products to exclude? '))    # Ask the user to input a value of l and convert to an integer\n",
        "\n",
        "  # Second, use list comprehension to compute the results and return to the user\n",
        "  nums = [x for x in range(i, j + 1) if x % k == 0 and x % l != 0]\n",
        "  return nums\n",
        "\n",
        "Q1()"
      ]
    },
    {
      "cell_type": "markdown",
      "source": [
        "**[2]** Generate an array of 100 values that are linearly spaced between zero and 2π. Generate three figure panels in a single row that show the sine (in a thick red line), cosine (in a thick green line), and tangent (in a thick blue line), respectively. Label the x-axis of each panel as ‘Angle (radians)’ and add a legend to each with the labels “sin(x)”, “cos(x)”, and “tan(x)”, respectively. Set the x-axis limits of each to zero and 2π and the y-axis limits to [-2, 2] for the first two plots and [-5,5] for the final plot. Add an overall title that reads “Basic Trigonometric Functions” in 24 point bold font. Set the x-axis tick locations and labels to be 0, π/2, π, 3π/2, and 2π; and the y-axis tick locations and labels to be -1, 0 and 1 for the first two plots and -5, 0 and 5 for the final plot, respectively."
      ],
      "metadata": {
        "id": "wnTO3cYcgGr8"
      }
    },
    {
      "cell_type": "code",
      "source": [
        "# First, import the toolboxes we will need (NumPy and Matplotlib)\n",
        "import numpy as np\n",
        "import matplotlib.pyplot as plt\n",
        "\n",
        "# Second, define a function to return the specific values for each subplot\n",
        "def Q2(index,x_ax):\n",
        "  '''Function to generate the y=axis values, limits, and tick locations, as well\n",
        "  as the label and line colour for each subplot. Written as a model answer for\n",
        "  the NEUR0024 module in-course assessment at UCL, 2024/25\n",
        "  Daniel Bush, UCL (2024) d.bush@ucl.ac.uk\n",
        "  '''\n",
        "\n",
        "  if index == 0:            # For the first subplot:\n",
        "    y_ax = np.sin(x_ax)     # Plot the sine function\n",
        "    label = 'sin(x)'        # Generate the appropriate label\n",
        "    ylims = [-2,2]          # Specify the requisite y axis limits...\n",
        "    y_ticks = [-1,0,1]      # ...and y-axis tick labels\n",
        "    col = 'r'               # Finally, specify the requisite line colour\n",
        "\n",
        "  elif index == 1:          # For the second subplot:\n",
        "    y_ax = np.cos(x_ax)     # Plot the cosine function\n",
        "    label = 'cos(x)'        # Generate the appropriate label\n",
        "    ylims = [-2,2]          # Specify the requisite y axis limits...\n",
        "    y_ticks = [-1,0,1]      # ...and y-axis tick labels\n",
        "    col = 'g'               # Finally, specify the requisite line colour\n",
        "\n",
        "  elif index == 2:          # For the third subplot:\n",
        "    y_ax = np.tan(x_ax)     # Plot the tangent function\n",
        "    label = 'tan(x)'        # Generate the appropriate label\n",
        "    ylims = [-5,5]          # Specify the requisite y axis limits...\n",
        "    y_ticks = [-5,0,5]      # ...and y-axis tick labels\n",
        "    col = 'b'               # Finally, specify the requisite line colour\n",
        "\n",
        "  else:                     # For any other index, return an error message\n",
        "    print('Invalid index has been specified')\n",
        "\n",
        "  return y_ax,label,ylims,y_ticks,col\n",
        "\n",
        "# Third, generate the figure\n",
        "plt.figure()                                                                    # Create a new figure\n",
        "plt.suptitle(\"Basic Trigonometric Functions\", fontsize=24, fontweight='bold')   # Add a super-title\n",
        "x_ax = np.linspace(0,2*np.pi,100)                                               # Specify the (consistent) x-axis data\n",
        "x_tk = [0, np.pi/2, np.pi, 3*np.pi/2, 2*np.pi]                                  # Specify the (consistent) x-axis tick locations\n",
        "x_lb = ['0','π/2','π','3π/2','2π']                                              # Specify the (consistent) x-axis labels\n",
        "\n",
        "for i in range(3):                                                              # Loop through sub-plots\n",
        "  y_ax,lbl,ylims,y_tk,col = Q2(i,x_ax)                                          # Generate the relevant y-axis data and labels\n",
        "\n",
        "  plt.subplot(1,3,i+1)                                                          # Create a new sub-plot\n",
        "  plt.plot(x_ax,y_ax,col,linewidth=3,label=lbl)                                 # Plot the y-axis data\n",
        "  plt.xticks(ticks=x_tk,labels=x_lb)                                            # Set the x-axis tick locations and labels\n",
        "  plt.yticks(ticks=y_tk)                                                        # Set the y-axis tick locations\n",
        "  plt.xlim(0,2*np.pi)                                                           # Set the x-axis limits\n",
        "  plt.ylim(ylims)                                                               # Set the y-axis limits\n",
        "  plt.xlabel('Angle (radians)')                                                 # Set the x-axis label\n",
        "  plt.legend()                                                                  # Add a legend to the sub-plot\n",
        "\n",
        "plt.show()                                                                      # Show the figure"
      ],
      "metadata": {
        "id": "mENAWR56gIH5"
      },
      "execution_count": null,
      "outputs": []
    },
    {
      "cell_type": "markdown",
      "source": [
        "**[3]** Generate an array of random numbers drawn from a uniform distribution in the [0,5] range with 100 rows, 1000 columns, and 50 layers. Generate an array of 50 random integers called “conditions” with values of either one, two, or three. Compute the mean across all layers of values in the fifteenth row. Compute the mean across all rows and layers where the value of conditions is one, two, and three, respectively, and store these in an array called “averages” with 3 rows and 1000 columns."
      ],
      "metadata": {
        "id": "iZNLFIDQdThs"
      }
    },
    {
      "cell_type": "code",
      "source": [
        "import numpy as np\n",
        "numbers = np.random.rand(100,1000,50)*5             # Generate an array of random numbers drawn from a uniform distribution in the [0,5] range with 100 rows, 1000 columns, and 50 layers\n",
        "conditions = np.random.randint(1,4,size=50)         # Generate an array of 50 random integers called “conditions” with values of either one, two, or three\n",
        "\n",
        "fifteenth_row = np.mean(numbers[14,:,:],axis=1)     # Compute the mean across all layers of values in the fifteenth row\n",
        "\n",
        "averages = np.zeros(shape=(3,1000))                 # Assign memory for the output\n",
        "for cond in range(1,4):                             # Compute the mean across all rows and layers where the value of conditions is one, two, and three, respectively, and store these in an array called “averages” with 3 rows and 1000 columns\n",
        "  averages[cond-1,:] = np.mean(numbers[:,:,conditions==cond],axis=(0,2))"
      ],
      "metadata": {
        "id": "MN4Brc60dVfE"
      },
      "execution_count": null,
      "outputs": []
    },
    {
      "cell_type": "markdown",
      "source": [
        "**[4]** Write a function in Python that asks the user to input the names of twenty countries in Africa, one at a time. They can make up to three mistakes. After each country name that they enter: if they are correct, the text: “Well done! … is in Africa - you have … / 20 correct” should be displayed on screen; if they repeat the name of a country, they should be warned but not lose a life; if they make a mistake, the text: “ … is not a country in Africa! You have … lives left” should be displayed on screen; and if they make three mistakes, the text: “… is not a country in Africa! GAME OVER” should be displayed on screen. Finally, if they name twenty countries in Africa without losing all three lives, the text “Congratulations! You have completed the game” should be displayed on screen. The function should not be case sensitive."
      ],
      "metadata": {
        "id": "VU7597T6TjjP"
      }
    },
    {
      "cell_type": "code",
      "source": [
        "def Q4():\n",
        "  '''Function that asks the user to name twenty countries in Africa, one at a\n",
        "  time. They can make up to three mistakes. Written as a model answer for\n",
        "  the NEUR0024 module in-course assessment at UCL, 2024/25\n",
        "  Daniel Bush, UCL (2024) d.bush@ucl.ac.uk\n",
        "  '''\n",
        "\n",
        "  # First, specify the full list of country names (in lower case) and other parameters\n",
        "  Countries = ['algeria', 'angola', 'benin', 'botswana','burkina faso', 'burundi', 'cameroon', 'cape verde', 'central african republic', 'chad', 'comoros', 'congo', 'ivory coast', 'democratic republic of congo', 'djibouti', 'egypt', 'equatorial guinea', 'eritrea', 'eswatini', 'swaziland', 'ethiopia', 'gabon', 'gambia', 'ghana', 'guinea', 'guinea-bissau', 'kenya', 'lesotho', 'liberia', 'libya', 'madagascar', 'malawi', 'mali', 'mauritania', 'mauritius', 'mayotte', 'morocco', 'mozambique', 'namibia', 'niger', 'nigeria', 'reunion', 'rwanda', 'saint helena', 'sao tome and príncipe', 'senegal', 'seychelles', 'sierra leone', 'somalia', 'south africa', 'south sudan', 'sudan', 'tanzania', 'togo', 'tunisia', 'uganda', 'zambia', 'zimbabwe']\n",
        "  Lives = 3                                                                                     # Total number of incorrect guesses that are allowed\n",
        "  Score = 0                                                                                     # Total number of correct guesses so far\n",
        "  Correct = []                                                                                  # Variable to store the list of correct guesses in\n",
        "  go_on = True                                                                                  # Logical variable to indicate progress through the game\n",
        "\n",
        "  # Second, run the game dynamics\n",
        "  while go_on:                                                                                  # For as long as there are lives remaning and less than twenty answers have been given...\n",
        "    guess = input('Please name a country in Africa? ')                                          # Ask the user for a guess\n",
        "    guess = guess.lower()                                                                       # Convert to lower case\n",
        "    if guess in Correct:                                                                        # If that guess has already been made...\n",
        "      print('You have already guessed ' + guess + '. Try again!')                               # Warn them, but take no lives\n",
        "    elif guess in Countries:                                                                    # If that guess is correct...\n",
        "      Score += 1                                                                                # Update the score\n",
        "      Correct.append(guess)                                                                     # Add that guess to the list of correct answers\n",
        "      print('Well done! ' + guess + ' is in Africa - you have ' + str(Score) + '/20 correct')   # Congratulate the user\n",
        "    else:                                                                                       # Otherwise...\n",
        "      Lives -= 1                                                                                # Take a life\n",
        "      if Lives > 0:                                                                             # If they still have lives left...\n",
        "        print(guess + ' is not a country in Africa! You have ' + str(Lives) + ' lives left')    # Tell them they were wrong, but can continue\n",
        "      else:                                                                                     # If they have no lives left...\n",
        "        print(guess + ' is not a country in Africa! GAME OVER')                                 # Tell them it's game over\n",
        "        go_on = False                                                                           # End the game\n",
        "    if Score == 20:                                                                             # If they have now reached twenty correct guesses...\n",
        "      print('Congratulations! You have completed the game')                                     # Congratulate them\n",
        "      go_on = False                                                                             # End the game\n",
        "\n",
        "Q4()"
      ],
      "metadata": {
        "id": "JbrxqyhSTo5T"
      },
      "execution_count": null,
      "outputs": []
    },
    {
      "cell_type": "markdown",
      "source": [
        "**[5]** Write a function  that asks the user to input a single integer value _N_ using the prompt: “What is the proposed sample size?” Then generate two arrays: “conditions”, which is an N x 1 list of random integers with values of either one or two; and “data”, which is an N x 1 list of random numbers drawn from a normal distribution with a mean of zero and a standard deviation of one. Compute the difference between the mean of all the values in “data” where the corresponding entry in “conditions” is 1, and the mean of all the values in “data” where the corresponding entry in “conditions” is 2. Store this value as a _float_ variable called “true_diff”. Then randomly shuffle the values in “conditions” and repeat that calculation, one thousand times. Store the difference you compute each time in consecutive entries of an array called “shuffle_diff”. Finally, compute the proportion of values in “shuffle_diff” that are larger / smaller than the value in “true_diff” if “true_diff” is positive / negative, respectively, display this on screen with the text “The shuffled p-value is = …”, and return that value. Run the function one thousand times and compute the proportion of returned values that are < 0.05."
      ],
      "metadata": {
        "id": "TD3GJGUAYbR7"
      }
    },
    {
      "cell_type": "code",
      "source": [
        "def Q5(N=None):\n",
        "  '''Function to demonstrate a simple shuffling procedure for assessing the\n",
        "  significance of an observed difference between experimental conditions.\n",
        "  Written as a model answer for the NEUR0024 module in-course assessment at UCL.\n",
        "  Daniel Bush, UCL (2024) d.bush@ucl.ac.uk\n",
        "  '''\n",
        "\n",
        "  # Import the toolboxes we will need\n",
        "  import numpy as np\n",
        "\n",
        "  # If the sample size has not been defined, then ask the user to specify\n",
        "  if N is None:\n",
        "    N = input('What is the proposed sample size? ')\n",
        "\n",
        "  # Randomly generate condition labels for each sample, and sample data\n",
        "  conditions = np.random.randint(1,3,size=int(N))\n",
        "  data = np.random.normal(size=int(N))\n",
        "\n",
        "  # Compute the true difference between conditions\n",
        "  true_diff = np.mean(data[conditions==1]) - np.mean(data[conditions==2])\n",
        "\n",
        "  # Now shuffle the condition labels one thousand times to generate a null\n",
        "  # distribution of differences between conditions\n",
        "  n_shuf = 1000\n",
        "  shuf_diff = []\n",
        "  for shuf in range(0,n_shuf):\n",
        "    np.random.shuffle(conditions)\n",
        "    shuf_diff.append(np.mean(data[conditions==1]) - np.mean(data[conditions==2]))\n",
        "\n",
        "  # Finally, compute the shuffled p-value and display to screen\n",
        "  if true_diff<0:\n",
        "    p = np.sum(true_diff>shuf_diff) / n_shuf\n",
        "  else:\n",
        "    p = np.sum(true_diff<shuf_diff) / n_shuf\n",
        "  print('The shuffled p-value is = ' + str(p))\n",
        "  return p\n",
        "\n",
        "# Run the function one thousand times and store the p-values from each iteration\n",
        "N = 20                                # Specify a sample size\n",
        "n_shufs = 1000                        # Specify the number of shuffles\n",
        "p_vals = np.empty(n_shufs)            # Assign some memory for the output\n",
        "for shuf in range(0,n_shufs):         # Loop through each shuffle\n",
        "  p_vals[shuf] = Q5(20)               # Compute and store the p-value\n",
        "prop_sig = np.mean(p_vals<0.05)       # Compute and report the proportion of shuffles that were significant\n",
        "print(str(np.round(prop_sig,3)*100) + '% of shuffles were significant')"
      ],
      "metadata": {
        "id": "uRBpD0kXZgTX"
      },
      "execution_count": null,
      "outputs": []
    }
  ]
}
