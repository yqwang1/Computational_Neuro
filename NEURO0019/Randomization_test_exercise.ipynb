{
  "nbformat": 4,
  "nbformat_minor": 0,
  "metadata": {
    "colab": {
      "provenance": [],
      "include_colab_link": true
    },
    "kernelspec": {
      "name": "python3",
      "display_name": "Python 3"
    },
    "language_info": {
      "name": "python"
    }
  },
  "cells": [
    {
      "cell_type": "markdown",
      "metadata": {
        "id": "view-in-github",
        "colab_type": "text"
      },
      "source": [
        "<a href=\"https://colab.research.google.com/github/yqwang1/Computational_Neuro/blob/main/Randomization_test_exercise.ipynb\" target=\"_parent\"><img src=\"https://colab.research.google.com/assets/colab-badge.svg\" alt=\"Open In Colab\"/></a>"
      ]
    },
    {
      "cell_type": "code",
      "source": [
        "# download the class data and library\n",
        "\n",
        "!git clone https://github.com/kdharris101/NeuralCodingClass.git"
      ],
      "metadata": {
        "colab": {
          "base_uri": "https://localhost:8080/"
        },
        "id": "spNTBdw2M4Hj",
        "outputId": "4f5cca24-0490-413d-c208-b9a9cc54835d"
      },
      "execution_count": null,
      "outputs": [
        {
          "output_type": "stream",
          "name": "stdout",
          "text": [
            "Cloning into 'NeuralCodingClass'...\n",
            "remote: Enumerating objects: 59, done.\u001b[K\n",
            "remote: Counting objects: 100% (3/3), done.\u001b[K\n",
            "remote: Compressing objects: 100% (2/2), done.\u001b[K\n",
            "remote: Total 59 (delta 0), reused 3 (delta 0), pack-reused 56 (from 2)\u001b[K\n",
            "Receiving objects: 100% (59/59), 125.56 MiB | 13.39 MiB/s, done.\n",
            "Resolving deltas: 100% (3/3), done.\n",
            "Updating files: 100% (52/52), done.\n"
          ]
        }
      ]
    },
    {
      "cell_type": "code",
      "execution_count": null,
      "metadata": {
        "id": "yFkBZXuBH2el"
      },
      "outputs": [],
      "source": [
        "import numpy as np\n",
        "import matplotlib.pyplot as plt\n",
        "import os\n",
        "\n",
        "import NeuralCodingClass.neurocode as nc"
      ]
    },
    {
      "cell_type": "code",
      "source": [
        "# load the data\n",
        "data_dir = 'NeuralCodingClass/data/ibl'\n",
        "\n",
        "# each IBL experiment has an \"experiment id\". we will look at one experiment:\n",
        "eid='e0928e11-2b86-4387-a203-80c77fab5d52'\n",
        "\n",
        "# for now we only need behavior information, about the trials of the task:\n",
        "trials = nc.load_object(os.path.join(data_dir, eid, 'trials'))\n",
        "\n"
      ],
      "metadata": {
        "id": "TwzvNG2-J6aG"
      },
      "execution_count": null,
      "outputs": []
    },
    {
      "cell_type": "code",
      "source": [
        "# the trials object is a \"Bunch\", a simple datastructure which contains many\n",
        "# arrays, all with the same number of rows.\n",
        "# each row of the array corresponds to one trial of the IBL task\n",
        "# anything ending in \"_times\" is a time in\n",
        "\n",
        "# let's see what's in it:\n",
        "\n",
        "for k in trials.keys():\n",
        "  print(f'trials.{k:<20}: size {trials[k].shape}\\t dtype {trials[k].dtype}')\n",
        "\n"
      ],
      "metadata": {
        "colab": {
          "base_uri": "https://localhost:8080/"
        },
        "id": "7YnI6b7lIwBk",
        "outputId": "b737edb5-4beb-4238-c9b5-737aaa51e3d8"
      },
      "execution_count": null,
      "outputs": [
        {
          "output_type": "stream",
          "name": "stdout",
          "text": [
            "trials.probabilityLeft     : size (474,)\t dtype float64\n",
            "trials.rewardVolume        : size (474,)\t dtype float64\n",
            "trials.stim_side           : size (474,)\t dtype int64\n",
            "trials.response_times      : size (474,)\t dtype float64\n",
            "trials.stimOff_times       : size (474,)\t dtype float64\n",
            "trials.intervals           : size (474, 2)\t dtype float64\n",
            "trials.choice              : size (474,)\t dtype float64\n",
            "trials.feedbackType        : size (474,)\t dtype float64\n",
            "trials.contrastRight       : size (474,)\t dtype float64\n",
            "trials.goCueTrigger_times  : size (474,)\t dtype float64\n",
            "trials.feedback_times      : size (474,)\t dtype float64\n",
            "trials.stimOn_times        : size (474,)\t dtype float64\n",
            "trials.goCue_times         : size (474,)\t dtype float64\n",
            "trials.contrastLeft        : size (474,)\t dtype float64\n",
            "trials.firstMovement_times : size (474,)\t dtype float64\n"
          ]
        }
      ]
    },
    {
      "cell_type": "code",
      "source": [
        "# get the number of trials\n",
        "n_trials = len(trials)\n",
        "\n",
        "# compute reaction times for each trial as the time of movement - stim on time.\n",
        "trials.delay = trials.firstMovement_times - trials.stimOn_times"
      ],
      "metadata": {
        "id": "1BnbBMd6PZa_"
      },
      "execution_count": null,
      "outputs": []
    },
    {
      "cell_type": "markdown",
      "source": [
        "The IBL task has stimuli appearing on the left or right, with a probability that switches in blocks.  The first block has 50% probability of left stimuli.  Subsequent blocks have 20% or 80% probability of left, and the block switches randomly.\n",
        "\n",
        "To do our statistical tests, we are going to compare actual data to re-randomized block or contrast sequences.\n",
        "\n",
        "Now we define two functions, to simulate the block sequence, and to simulate the contrast sequence conditional on the block sequence"
      ],
      "metadata": {
        "id": "O6vuaGpXSaw0"
      }
    },
    {
      "cell_type": "code",
      "source": [
        "def generate_probabilities(n_trials):\n",
        "    '''\n",
        "    generate_probabilities(n_trials)\n",
        "\n",
        "    generates a sequence of stimulus side probabilities (i.e. the block sequence) using the rules\n",
        "    of the IBL task.\n",
        "\n",
        "    first the unbiased block: 90 trials at 50%\n",
        "\n",
        "    then alternating blocks of 20% and 80%, starting on a random side.\n",
        "\n",
        "    the length of each block follows an exponential distribution  of scale 60, truncated between 20 and 100\n",
        "\n",
        "    inputs\n",
        "    ------\n",
        "    n_trials: int, number of trials to generate\n",
        "\n",
        "    returns\n",
        "    -------\n",
        "    probabilityLeft: 1d array of length n_trials containing 0.5, 0.2, 0.8\n",
        "\n",
        "    '''\n",
        "\n",
        "    probabilityLeft = np.zeros(n_trials)\n",
        "\n",
        "    probabilityLeft[:90] = 0.5\n",
        "    t = 90\n",
        "\n",
        "    # choose first probability as 0.2 or 0.8\n",
        "    prob = 0.2 + (np.random.rand()>.5)*.6\n",
        "\n",
        "    # loop over blocks\n",
        "    while t<n_trials:\n",
        "\n",
        "        # generate block length from an exponential distribution, scale 60, truncated between 20 and 100\n",
        "        l = 0\n",
        "        while (l<20 or l>100):\n",
        "            l = int(np.random.exponential(60))\n",
        "\n",
        "        # set the next block in probabilityLeft\n",
        "        t_old = t\n",
        "        t = np.minimum(t+l, n_trials)\n",
        "        probabilityLeft[t_old:t] = prob\n",
        "\n",
        "        # flip the probability for the next block\n",
        "        prob = 1-prob\n",
        "\n",
        "    return probabilityLeft"
      ],
      "metadata": {
        "id": "cKqAgYoWRyey"
      },
      "execution_count": null,
      "outputs": []
    },
    {
      "cell_type": "code",
      "source": [
        "def generate_contrasts(probabilityLeft):\n",
        "    '''\n",
        "    generate_contrasts(probabilityLeft)\n",
        "\n",
        "    generates a sequence of contrasts using the rules of the IBL task, from the block sequence\n",
        "    encoded in the variable probabilityLeft.\n",
        "\n",
        "    on each trial, it chooses a stimulus side, which is +1 (i.e. left) with prbability from the entry\n",
        "    in probabilityLeft.\n",
        "\n",
        "    it then chooses a contrast from this side, which can be 1, 0.25, 0.125, 0.0625, or 0\n",
        "    with probabilities 2/9, 2/9, 2/9, 2/9 and 1/9\n",
        "\n",
        "    inputs\n",
        "    ------\n",
        "    probabilityLeft: 1d numpy array containing probability of a left stimulus on each trial\n",
        "\n",
        "    returns\n",
        "    -------\n",
        "    contrastLeft: contrast shown on the left screen on each trial\n",
        "    contrastRight: contrast shown on the right screen on each trial\n",
        "    stim_side: which side has the stimulus. This is needed to disambiguate 0-contrast trials\n",
        "\n",
        "    '''\n",
        "    n_trials = len(probabilityLeft)\n",
        "    stim_side = 2*(np.random.rand(n_trials)<=probabilityLeft)-1\n",
        "\n",
        "    contrasts = np.random.choice([0., 0.0625, 0.0625, 0.125, 0.125, 0.25, 0.25, 1., 1.], n_trials)\n",
        "    contrastLeft = contrasts*(stim_side==1)\n",
        "    contrastRight = contrasts*(stim_side==-1)\n",
        "\n",
        "    return contrastLeft, contrastRight, stim_side"
      ],
      "metadata": {
        "id": "a4Wd2koYS7dR"
      },
      "execution_count": null,
      "outputs": []
    },
    {
      "cell_type": "markdown",
      "source": [
        "Now let's test if choice correlates with the visual stimulus.\n",
        "\n",
        "We will define a test statistic which is the mean of each trial's choice (+1 for left, -1 for right) multiplied by the signed contrast (e.g. +.25 for 25% contrast on the left, -.25 for 25% contrast on the right).\n",
        "\n",
        "We will compare this to a null distribution obtained by re-randomizing the contrast sequence, conditional on the block sequence"
      ],
      "metadata": {
        "id": "GfgucQqRTArd"
      }
    },
    {
      "cell_type": "code",
      "source": [
        "# test if choice correlates with contrastLeft-contrastRight\n",
        "#\n",
        "# randomizing conditional on the block sequence\n",
        "\n",
        "stat = np.mean(trials.choice * (trials.contrastLeft-trials.contrastRight))\n",
        "\n",
        "N = 1000\n",
        "null_dist = np.zeros(N-1)\n",
        "for i in np.arange(N-1):\n",
        "    nullContrastLeft, nullContrastRight, nullStim_side = generate_contrasts(trials.probabilityLeft)\n",
        "    null_dist[i] = np.mean(trials.choice * (nullContrastLeft- nullContrastRight))\n",
        "\n",
        "print('p=%.3f'%((1+np.sum(null_dist>=stat))/N))\n",
        "plt.hist(null_dist)\n",
        "plt.axvline(stat, color='k');"
      ],
      "metadata": {
        "colab": {
          "base_uri": "https://localhost:8080/",
          "height": 448
        },
        "id": "DXp8bDIbS9N4",
        "outputId": "4ec83efc-0064-45f5-c3a0-d22f5b4622d2"
      },
      "execution_count": null,
      "outputs": [
        {
          "output_type": "stream",
          "name": "stdout",
          "text": [
            "p=0.001\n"
          ]
        },
        {
          "output_type": "display_data",
          "data": {
            "text/plain": [
              "<Figure size 640x480 with 1 Axes>"
            ],
            "image/png": "[encoded data removed]"
          },
          "metadata": {}
        }
      ]
    },
    {
      "cell_type": "markdown",
      "source": [
        "EXERCISE 1: repeat this analysis but not test if reaction time (stored in trials.delay) correlates with signed contrast\n",
        "\n"
      ],
      "metadata": {
        "id": "Ja8VDqQZTrVK"
      }
    },
    {
      "cell_type": "code",
      "source": [
        "# Should look something like this..."
      ],
      "metadata": {
        "colab": {
          "base_uri": "https://localhost:8080/",
          "height": 467
        },
        "id": "7Ath2-VcTfHR",
        "outputId": "6b8850e2-cb74-4230-d832-826088fc174f"
      },
      "execution_count": null,
      "outputs": [
        {
          "output_type": "stream",
          "name": "stdout",
          "text": [
            "p=0.591\n"
          ]
        },
        {
          "output_type": "execute_result",
          "data": {
            "text/plain": [
              "<matplotlib.lines.Line2D at 0x7e7244b53dd0>"
            ]
          },
          "metadata": {},
          "execution_count": 9
        },
        {
          "output_type": "display_data",
          "data": {
            "text/plain": [
              "<Figure size 640x480 with 1 Axes>"
            ],
            "image/png": "[encoded data removed]"
          },
          "metadata": {}
        }
      ]
    },
    {
      "cell_type": "markdown",
      "source": [
        "EXCERCISE 2: now do it again, but asking if reaction time correlates with the absolute contrast (trials.contrastLeft + trials.contrastRight)\n",
        "\n",
        "HINT: if you get p=1.000, you need to change something. what?\n"
      ],
      "metadata": {
        "id": "zDluzdYlUCWD"
      }
    },
    {
      "cell_type": "code",
      "source": [
        "# Should look something like this..."
      ],
      "metadata": {
        "colab": {
          "base_uri": "https://localhost:8080/",
          "height": 467
        },
        "id": "1Io1L2jjT29A",
        "outputId": "455e0f66-3d32-4205-ccbf-410c52592af2"
      },
      "execution_count": null,
      "outputs": [
        {
          "output_type": "stream",
          "name": "stdout",
          "text": [
            "p=0.001\n"
          ]
        },
        {
          "output_type": "execute_result",
          "data": {
            "text/plain": [
              "<matplotlib.lines.Line2D at 0x7e7244ba3c90>"
            ]
          },
          "metadata": {},
          "execution_count": 10
        },
        {
          "output_type": "display_data",
          "data": {
            "text/plain": [
              "<Figure size 640x480 with 1 Axes>"
            ],
            "image/png": "[encoded data removed]"
          },
          "metadata": {}
        }
      ]
    },
    {
      "cell_type": "markdown",
      "source": [
        "Now let's ask if the choice the mice make on zero contrast trials correlates with the probability of a left stimulus (i.e. the block) on that trial\n",
        "\n",
        "QUESTION: what does this tell us? why is it valid?\n",
        "\n",
        "QUESTION: if you run the test multiple times and sometimes get a p-value below 0.05 and sometimes above, what should you do?\n",
        "\n",
        "\n"
      ],
      "metadata": {
        "id": "tFcb98wEUmpb"
      }
    },
    {
      "cell_type": "code",
      "source": [
        "zero_contrast_trials = (trials.contrastLeft==0) & (trials.contrastRight==0)\n",
        "\n",
        "stat = np.mean(trials.choice[zero_contrast_trials] * trials.probabilityLeft[zero_contrast_trials])\n",
        "\n",
        "N=1000\n",
        "null_dist = np.zeros(N-1)\n",
        "for i in np.arange(N-1):\n",
        "    nullProbabilityLeft = generate_probabilities(n_trials)\n",
        "    null_dist[i] = np.mean(trials.choice[zero_contrast_trials] * nullProbabilityLeft[zero_contrast_trials])\n",
        "\n",
        "print('p=%.3f'%((1+np.sum(null_dist>=stat))/N))\n",
        "plt.hist(null_dist)\n",
        "plt.axvline(stat, color='k')"
      ],
      "metadata": {
        "colab": {
          "base_uri": "https://localhost:8080/",
          "height": 467
        },
        "id": "PALZPk_-UWVH",
        "outputId": "c4f66943-23dd-426d-d4bb-bb46f18a6609"
      },
      "execution_count": null,
      "outputs": [
        {
          "output_type": "stream",
          "name": "stdout",
          "text": [
            "p=0.046\n"
          ]
        },
        {
          "output_type": "execute_result",
          "data": {
            "text/plain": [
              "<matplotlib.lines.Line2D at 0x7e724429cc90>"
            ]
          },
          "metadata": {},
          "execution_count": 11
        },
        {
          "output_type": "display_data",
          "data": {
            "text/plain": [
              "<Figure size 640x480 with 1 Axes>"
            ],
            "image/png": "[encoded data removed]"
          },
          "metadata": {}
        }
      ]
    },
    {
      "cell_type": "markdown",
      "source": [
        "EXERCISE 4: do it again for all trials (not just zero contrast). what does that tell you?\n"
      ],
      "metadata": {
        "id": "EFAvo9mmORLS"
      }
    }
  ]
}